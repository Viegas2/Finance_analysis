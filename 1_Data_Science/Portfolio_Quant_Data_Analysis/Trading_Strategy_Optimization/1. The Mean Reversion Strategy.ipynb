{
 "cells": [
  {
   "cell_type": "markdown",
   "metadata": {},
   "source": [
    "Mean Reversion Strategy"
   ]
  },
  {
   "cell_type": "code",
   "execution_count": null,
   "metadata": {},
   "outputs": [],
   "source": [
    "import yfinance as yf\n",
    "import pandas as pd\n",
    "import numpy as np\n",
    "import matplotlib.pyplot as plt"
   ]
  },
  {
   "cell_type": "markdown",
   "metadata": {},
   "source": [
    "1) Utilizando o ^BVSP para o teste#"
   ]
  },
  {
   "cell_type": "code",
   "execution_count": null,
   "metadata": {},
   "outputs": [
    {
     "name": "stderr",
     "output_type": "stream",
     "text": [
      "[*********************100%***********************]  1 of 1 completed"
     ]
    },
    {
     "name": "stderr",
     "output_type": "stream",
     "text": [
      "\n"
     ]
    },
    {
     "data": {
      "text/plain": [
       "1       0.0\n",
       "2       0.0\n",
       "3       0.0\n",
       "4       0.0\n",
       "5       0.0\n",
       "       ... \n",
       "1462    0.0\n",
       "1463    0.0\n",
       "1464    0.0\n",
       "1465    0.0\n",
       "1466    0.0\n",
       "Name: Position, Length: 1466, dtype: float64"
      ]
     },
     "execution_count": 4,
     "metadata": {},
     "output_type": "execute_result"
    }
   ],
   "source": [
    "#Baixando dados do ^BVSP\n",
    "bovespa_data = yf.download(\"^BVSP\", start=\"2018-01-01\", end=\"2024-01-01\")\n",
    "\n",
    "\n",
    "if isinstance(bovespa_data.columns, pd.MultiIndex):\n",
    " bovespa_data.columns = ['_'.join(col).strip() for col in bovespa_data.columns]\n",
    "\n",
    "#Bandas de bollinger\n",
    "bovespa_data['SMA_20'] = bovespa_data['Close_^BVSP'].rolling(window=20).mean()\n",
    "bovespa_data['Std_Dev'] = bovespa_data['Close_^BVSP'].rolling(window=20).std()\n",
    "bovespa_data['Upper Band'] = bovespa_data['SMA_20'] + (2 * bovespa_data['Std_Dev'])\n",
    "bovespa_data['Lower Band'] = bovespa_data['SMA_20'] - (2 * bovespa_data['Std_Dev'])\n",
    "\n",
    "# Retirando valors NaN \n",
    "bovespa_data.dropna(subset=['Close_^BVSP', 'Lower Band', 'Upper Band'], inplace=True)\n",
    "\n",
    "#Validando se o indice estpa consistente \n",
    "bovespa_data = bovespa_data.reset_index(drop=True)\n",
    "\n",
    "#print(bovespa_data)\n",
    "\n",
    "bovespa_data['Signal'] = 0\n",
    "\n",
    "#Criando os Sinais de Compra e Venda\n",
    "bovespa_data.loc[bovespa_data['Close_^BVSP'] < bovespa_data['Lower Band'], 'Signal'] = 1\n",
    "bovespa_data.loc[bovespa_data['Close_^BVSP'] > bovespa_data['Upper Band'], 'Signal'] = -1\n",
    "\n",
    "#Se o preço de fechamento (Close_^BVSP) \n",
    "#estiver abaixo da Banda Inferior, o código define Signal = 1 (indica um sinal de compra, esperando que o preço volte para a média).\n",
    "#Se o preço estiver acima da Banda Superior, define Signal = -1 (sinal de venda, esperando que o preço caia de volta para a média).\n",
    "\n",
    "#Evitando o Vies de Antecipação (Look-ahead Bias)\n",
    "bovespa_data['Position'] = bovespa_data['Signal'].shift()\n",
    "bovespa_data['Position'].dropna()\n",
    "\n",
    "#O método .shift() desloca os sinais para frente, garantindo que as decisões sejam tomadas no dia seguinte, \n",
    "# evitando o look-ahead bias (uso de informações futuras que não estariam disponíveis no momento da decisão real).\n",
    "#Sem o .shift(), o sistema pode estar operando com base em informações futuras, o que seria irrealista."
   ]
  },
  {
   "cell_type": "code",
   "execution_count": null,
   "metadata": {},
   "outputs": [],
   "source": [
    "#"
   ]
  }
 ],
 "metadata": {
  "kernelspec": {
   "display_name": "base",
   "language": "python",
   "name": "python3"
  },
  "language_info": {
   "codemirror_mode": {
    "name": "ipython",
    "version": 3
   },
   "file_extension": ".py",
   "mimetype": "text/x-python",
   "name": "python",
   "nbconvert_exporter": "python",
   "pygments_lexer": "ipython3",
   "version": "3.12.7"
  }
 },
 "nbformat": 4,
 "nbformat_minor": 2
}
